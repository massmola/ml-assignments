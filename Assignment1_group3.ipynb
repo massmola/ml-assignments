{
 "cells": [
  {
   "cell_type": "markdown",
   "id": "732cd282",
   "metadata": {},
   "source": [
    "# Assignment # 1\n",
    "\n",
    "## 1. Data Preprocessing\n",
    "\n",
    "Import the `titanic.csv` dataset.\n",
    "\n",
    "It contains data of the real Titanic passengers. Each row represents one person. The columns describe different attributes about the person including whether they survived (considered as the class label), their age, their passenger-class (Pclass), their sex, ther number of their relatives and the fare they paid. \n",
    "\n",
    "Execute the following tasks:\n",
    "- How many samples are in the dataset?\n",
    "- What are the types of the attributes?\n",
    "- Show the boxplots for the numeric attributes. Discuss the presence of outliers.\n",
    "- Remove the outliers (if present) for the numeric attributes by using the IQR method.\n",
    "- Apply normaxlization (minMax scaler) to the numeric attributes (excluding the class).\n",
    "- convert the Sex attribute in a numeric one: replace `male` with 0 and `female` with 1.\n",
    "- Select the data about the survived people vs not survived people. Is there imbalanced in the classes?\n",
    "- Plot the scatter plot for the numeric attributes divided per classes (people vs not survived).\n",
    "- Are the classes easly separable?\n",
    "- By inspecting the scatter plots, are ther important attributes that allow an easy separation of the classes?\n",
    "- Are there correlated features?"
   ]
  },
  {
   "cell_type": "markdown",
   "id": "3f3a7528",
   "metadata": {},
   "source": [
    "## 2. Distance Measures Between Data and K-NN Classification\n",
    "\n",
    "Implement the `L1` and `L2` distances among the samples of the preprocessed `titanic.csv` dataset and perform a K-NNN classification. Look carefully at the feature and select the ones that are useful for computing a similarity. This task is similar to exercise 1 in Lab 2 but in this case you must avoid for loops.\n",
    "\n",
    "The exercise requires the following tasks:\n",
    "\n",
    "1. Remove from the dataset 5 samples of survived people and 5 of not survived ones and store in a Numpy array. These will be the test samples. The other part of the dataset is regarded as the training set.\n",
    "2. write a `L1_distance` function that performs the `L1` distance among the test samples and all the samples in the training set. The output will be a `10 x n` distance matrix `DM` (`n` is the total number of samples in the trainig set) where each cell `DM[i, j]` contains the distance between the test sample with index `i` and the training sample with index `j`. Avoid for loops by using Numpy broadcasting as explained in Lab 2 and in the online notes.\n",
    "3. Do the same of point 2 for `L2_distance`.\n",
    "4. Given an index `i` of a test sample, return the classes of the top 5 samples more similar to `i`. This can be achieved by using the [argpartition](https://numpy.org/doc/stable/reference/generated/numpy.argpartition.html) or the [argsort](https://numpy.org/doc/stable/reference/generated/numpy.argsort.html) Numpy functions. Then, consider the class of `i` as the majority class in the 5 top samples.\n",
    "5. For each test sample `i` from 0 to 9, are the L1 and L2 functions able to return the same class of `i`?"
   ]
  },
  {
   "cell_type": "code",
   "execution_count": 172,
   "id": "c0432bd0",
   "metadata": {},
   "outputs": [
    {
     "data": {
      "application/vnd.microsoft.datawrangler.viewer.v0+json": {
       "columns": [
        {
         "name": "index",
         "rawType": "int64",
         "type": "integer"
        },
        {
         "name": "Survived",
         "rawType": "int64",
         "type": "integer"
        },
        {
         "name": "Pclass",
         "rawType": "int64",
         "type": "integer"
        },
        {
         "name": "Name",
         "rawType": "object",
         "type": "string"
        },
        {
         "name": "Sex",
         "rawType": "object",
         "type": "string"
        },
        {
         "name": "Age",
         "rawType": "float64",
         "type": "float"
        },
        {
         "name": "Siblings/Spouses Aboard",
         "rawType": "int64",
         "type": "integer"
        },
        {
         "name": "Parents/Children Aboard",
         "rawType": "int64",
         "type": "integer"
        },
        {
         "name": "Fare",
         "rawType": "float64",
         "type": "float"
        }
       ],
       "conversionMethod": "pd.DataFrame",
       "ref": "633899a7-180d-4dda-a0ed-4d9fd9e14bb2",
       "rows": [
        [
         "0",
         "0",
         "3",
         "Mr. Owen Harris Braund",
         "male",
         "22.0",
         "1",
         "0",
         "7.25"
        ],
        [
         "1",
         "1",
         "1",
         "Mrs. John Bradley (Florence Briggs Thayer) Cumings",
         "female",
         "38.0",
         "1",
         "0",
         "71.2833"
        ],
        [
         "2",
         "1",
         "3",
         "Miss. Laina Heikkinen",
         "female",
         "26.0",
         "0",
         "0",
         "7.925"
        ],
        [
         "3",
         "1",
         "1",
         "Mrs. Jacques Heath (Lily May Peel) Futrelle",
         "female",
         "35.0",
         "1",
         "0",
         "53.1"
        ],
        [
         "4",
         "0",
         "3",
         "Mr. William Henry Allen",
         "male",
         "35.0",
         "0",
         "0",
         "8.05"
        ]
       ],
       "shape": {
        "columns": 8,
        "rows": 5
       }
      },
      "text/html": [
       "<div>\n",
       "<style scoped>\n",
       "    .dataframe tbody tr th:only-of-type {\n",
       "        vertical-align: middle;\n",
       "    }\n",
       "\n",
       "    .dataframe tbody tr th {\n",
       "        vertical-align: top;\n",
       "    }\n",
       "\n",
       "    .dataframe thead th {\n",
       "        text-align: right;\n",
       "    }\n",
       "</style>\n",
       "<table border=\"1\" class=\"dataframe\">\n",
       "  <thead>\n",
       "    <tr style=\"text-align: right;\">\n",
       "      <th></th>\n",
       "      <th>Survived</th>\n",
       "      <th>Pclass</th>\n",
       "      <th>Name</th>\n",
       "      <th>Sex</th>\n",
       "      <th>Age</th>\n",
       "      <th>Siblings/Spouses Aboard</th>\n",
       "      <th>Parents/Children Aboard</th>\n",
       "      <th>Fare</th>\n",
       "    </tr>\n",
       "  </thead>\n",
       "  <tbody>\n",
       "    <tr>\n",
       "      <th>0</th>\n",
       "      <td>0</td>\n",
       "      <td>3</td>\n",
       "      <td>Mr. Owen Harris Braund</td>\n",
       "      <td>male</td>\n",
       "      <td>22.0</td>\n",
       "      <td>1</td>\n",
       "      <td>0</td>\n",
       "      <td>7.2500</td>\n",
       "    </tr>\n",
       "    <tr>\n",
       "      <th>1</th>\n",
       "      <td>1</td>\n",
       "      <td>1</td>\n",
       "      <td>Mrs. John Bradley (Florence Briggs Thayer) Cum...</td>\n",
       "      <td>female</td>\n",
       "      <td>38.0</td>\n",
       "      <td>1</td>\n",
       "      <td>0</td>\n",
       "      <td>71.2833</td>\n",
       "    </tr>\n",
       "    <tr>\n",
       "      <th>2</th>\n",
       "      <td>1</td>\n",
       "      <td>3</td>\n",
       "      <td>Miss. Laina Heikkinen</td>\n",
       "      <td>female</td>\n",
       "      <td>26.0</td>\n",
       "      <td>0</td>\n",
       "      <td>0</td>\n",
       "      <td>7.9250</td>\n",
       "    </tr>\n",
       "    <tr>\n",
       "      <th>3</th>\n",
       "      <td>1</td>\n",
       "      <td>1</td>\n",
       "      <td>Mrs. Jacques Heath (Lily May Peel) Futrelle</td>\n",
       "      <td>female</td>\n",
       "      <td>35.0</td>\n",
       "      <td>1</td>\n",
       "      <td>0</td>\n",
       "      <td>53.1000</td>\n",
       "    </tr>\n",
       "    <tr>\n",
       "      <th>4</th>\n",
       "      <td>0</td>\n",
       "      <td>3</td>\n",
       "      <td>Mr. William Henry Allen</td>\n",
       "      <td>male</td>\n",
       "      <td>35.0</td>\n",
       "      <td>0</td>\n",
       "      <td>0</td>\n",
       "      <td>8.0500</td>\n",
       "    </tr>\n",
       "  </tbody>\n",
       "</table>\n",
       "</div>"
      ],
      "text/plain": [
       "   Survived  Pclass                                               Name  \\\n",
       "0         0       3                             Mr. Owen Harris Braund   \n",
       "1         1       1  Mrs. John Bradley (Florence Briggs Thayer) Cum...   \n",
       "2         1       3                              Miss. Laina Heikkinen   \n",
       "3         1       1        Mrs. Jacques Heath (Lily May Peel) Futrelle   \n",
       "4         0       3                            Mr. William Henry Allen   \n",
       "\n",
       "      Sex   Age  Siblings/Spouses Aboard  Parents/Children Aboard     Fare  \n",
       "0    male  22.0                        1                        0   7.2500  \n",
       "1  female  38.0                        1                        0  71.2833  \n",
       "2  female  26.0                        0                        0   7.9250  \n",
       "3  female  35.0                        1                        0  53.1000  \n",
       "4    male  35.0                        0                        0   8.0500  "
      ]
     },
     "execution_count": 172,
     "metadata": {},
     "output_type": "execute_result"
    }
   ],
   "source": [
    "import pandas as pd\n",
    "\n",
    "titanic_df = pd.read_csv('titanic.csv')\n",
    "\n",
    "titanic_df.head()"
   ]
  },
  {
   "cell_type": "markdown",
   "id": "fd7062fc",
   "metadata": {},
   "source": [
    "## 1."
   ]
  },
  {
   "cell_type": "code",
   "execution_count": 173,
   "id": "2dbf4091",
   "metadata": {},
   "outputs": [
    {
     "data": {
      "text/plain": [
       "887"
      ]
     },
     "execution_count": 173,
     "metadata": {},
     "output_type": "execute_result"
    }
   ],
   "source": [
    "titanic_df.shape[0] # or len(titanic_df)"
   ]
  },
  {
   "cell_type": "markdown",
   "id": "2c8e2117",
   "metadata": {},
   "source": [
    "### 2."
   ]
  },
  {
   "cell_type": "code",
   "execution_count": 174,
   "id": "5bccdbcf",
   "metadata": {},
   "outputs": [
    {
     "data": {
      "text/plain": [
       "Survived                     int64\n",
       "Pclass                       int64\n",
       "Name                        object\n",
       "Sex                         object\n",
       "Age                        float64\n",
       "Siblings/Spouses Aboard      int64\n",
       "Parents/Children Aboard      int64\n",
       "Fare                       float64\n",
       "dtype: object"
      ]
     },
     "execution_count": 174,
     "metadata": {},
     "output_type": "execute_result"
    }
   ],
   "source": [
    "titanic_df.dtypes"
   ]
  },
  {
   "cell_type": "markdown",
   "id": "fe468025",
   "metadata": {},
   "source": [
    "### 3."
   ]
  },
  {
   "cell_type": "code",
   "execution_count": 175,
   "id": "c7886de4",
   "metadata": {},
   "outputs": [
    {
     "data": {
      "text/plain": [
       "<Axes: >"
      ]
     },
     "execution_count": 175,
     "metadata": {},
     "output_type": "execute_result"
    },
    {
     "data": {
      "image/png": "[encoded data removed]",
      "text/plain": [
       "<Figure size 1500x800 with 1 Axes>"
      ]
     },
     "metadata": {},
     "output_type": "display_data"
    }
   ],
   "source": [
    "numeric_titanic_df = titanic_df.select_dtypes(include='number')\n",
    "\n",
    "# we remove Pclass and Survived, because those are categorical, even if saved as numbers\n",
    "numeric_titanic_df = numeric_titanic_df.drop(columns=['Pclass', 'Survived'])\n",
    "\n",
    "numeric_attributes = numeric_titanic_df.columns.copy()\n",
    "# we remove 'Siblings/Spouses Aboard' and 'Parents/Children Aboard' because the IQR outlier detecton dose not work with those\n",
    "numeric_titanic_df = numeric_titanic_df.drop(columns=['Siblings/Spouses Aboard', 'Parents/Children Aboard'])\n",
    "\n",
    "numeric_attributes_for_iqr = numeric_titanic_df.columns.copy()\n",
    "\n",
    "\n",
    "numeric_titanic_df.boxplot(figsize=(15, 8))"
   ]
  },
  {
   "cell_type": "markdown",
   "id": "c18d4b40",
   "metadata": {},
   "source": [
    "### 4."
   ]
  },
  {
   "cell_type": "code",
   "execution_count": 176,
   "id": "8bee8fed",
   "metadata": {},
   "outputs": [
    {
     "name": "stdout",
     "output_type": "stream",
     "text": [
      "Num of samples before outlier cleaning: 887\n",
      "Num of samples after outlier cleaning: 759\n"
     ]
    },
    {
     "data": {
      "text/plain": [
       "<Axes: >"
      ]
     },
     "execution_count": 176,
     "metadata": {},
     "output_type": "execute_result"
    },
    {
     "data": {
      "image/png": "[encoded data removed]",
      "text/plain": [
       "<Figure size 2000x300 with 1 Axes>"
      ]
     },
     "metadata": {},
     "output_type": "display_data"
    }
   ],
   "source": [
    "# Your code here\n",
    "Q1 = numeric_titanic_df.quantile(0.25)\n",
    "Q3 = numeric_titanic_df.quantile(0.75)\n",
    "IQR = Q3 - Q1\n",
    "\n",
    "numeric_titanic_df_no_outliers = numeric_titanic_df.loc[((Q1 - 1.5*IQR < numeric_titanic_df).sum(axis=1)==len(numeric_titanic_df.columns)) & ((numeric_titanic_df < Q3 + 1.5*IQR).sum(axis=1)==len(numeric_titanic_df.columns)), :]\n",
    "\n",
    "print(f\"Num of samples before outlier cleaning: {len(numeric_titanic_df)}\")\n",
    "print(f\"Num of samples after outlier cleaning: {len(numeric_titanic_df_no_outliers)}\")\n",
    "numeric_titanic_df_no_outliers.boxplot(figsize=(20,3))"
   ]
  },
  {
   "cell_type": "markdown",
   "id": "a4735fad",
   "metadata": {},
   "source": [
    "### 5."
   ]
  },
  {
   "cell_type": "code",
   "execution_count": 177,
   "id": "53f40cd5",
   "metadata": {},
   "outputs": [
    {
     "data": {
      "application/vnd.microsoft.datawrangler.viewer.v0+json": {
       "columns": [
        {
         "name": "index",
         "rawType": "int64",
         "type": "integer"
        },
        {
         "name": "0",
         "rawType": "float64",
         "type": "float"
        },
        {
         "name": "1",
         "rawType": "float64",
         "type": "float"
        },
        {
         "name": "2",
         "rawType": "float64",
         "type": "float"
        },
        {
         "name": "3",
         "rawType": "float64",
         "type": "float"
        }
       ],
       "conversionMethod": "pd.DataFrame",
       "ref": "374ae40b-9cde-4ef3-871c-18afac9a31fa",
       "rows": [
        [
         "0",
         "0.2711736617240512",
         "0.125",
         "0.0",
         "0.014151057562208049"
        ],
        [
         "1",
         "0.4722292033174164",
         "0.125",
         "0.0",
         "0.13913573538264068"
        ],
        [
         "2",
         "0.32143754712239253",
         "0.0",
         "0.0",
         "0.015468569817999833"
        ],
        [
         "3",
         "0.4345312892686604",
         "0.125",
         "0.0",
         "0.10364429745562033"
        ],
        [
         "4",
         "0.4345312892686604",
         "0.0",
         "0.0",
         "0.015712553569072387"
        ],
        [
         "5",
         "0.33400351847197784",
         "0.0",
         "0.0",
         "0.01650950209357577"
        ],
        [
         "6",
         "0.6732847449107816",
         "0.0",
         "0.0",
         "0.10122885832000206"
        ],
        [
         "7",
         "0.01985423473234481",
         "0.375",
         "0.16666666666666666",
         "0.04113566043083236"
        ],
        [
         "8",
         "0.33400351847197784",
         "0.0",
         "0.3333333333333333",
         "0.021730754366528396"
        ],
        [
         "9",
         "0.17064589092736868",
         "0.125",
         "0.0",
         "0.058694292654020104"
        ],
        [
         "10",
         "0.04498617743151546",
         "0.125",
         "0.16666666666666666",
         "0.03259622914329302"
        ],
        [
         "11",
         "0.723548630309123",
         "0.0",
         "0.0",
         "0.051822148727810165"
        ],
        [
         "12",
         "0.24604171902488062",
         "0.0",
         "0.0",
         "0.015712553569072387"
        ],
        [
         "13",
         "0.4847951746670017",
         "0.125",
         "0.8333333333333333",
         "0.06104473451835265"
        ],
        [
         "14",
         "0.17064589092736868",
         "0.0",
         "0.0",
         "0.015330377421392339"
        ],
        [
         "15",
         "0.685850716260367",
         "0.0",
         "0.0",
         "0.03122992013728673"
        ],
        [
         "16",
         "0.01985423473234481",
         "0.5",
         "0.16666666666666666",
         "0.05684821399990475"
        ],
        [
         "17",
         "0.2837396330736366",
         "0.0",
         "0.0",
         "0.025374310111545468"
        ],
        [
         "18",
         "0.38426740387031916",
         "0.125",
         "0.0",
         "0.03513366015444757"
        ],
        [
         "19",
         "0.2711736617240512",
         "0.0",
         "0.0",
         "0.014102260811993537"
        ],
        [
         "20",
         "0.4345312892686604",
         "0.0",
         "0.0",
         "0.050748620223090936"
        ],
        [
         "21",
         "0.4219653179190751",
         "0.0",
         "0.0",
         "0.025374310111545468"
        ],
        [
         "22",
         "0.18321186227695402",
         "0.0",
         "0.0",
         "0.015671954672893913"
        ],
        [
         "23",
         "0.34656948982156316",
         "0.0",
         "0.0",
         "0.06929138530460494"
        ],
        [
         "24",
         "0.09525006282985675",
         "0.375",
         "0.16666666666666666",
         "0.04113566043083236"
        ],
        [
         "25",
         "0.4722292033174164",
         "0.125",
         "0.8333333333333333",
         "0.06126431989431795"
        ],
        [
         "26",
         "0.32143754712239253",
         "0.0",
         "0.0",
         "0.014102260811993537"
        ],
        [
         "27",
         "0.2334757476752953",
         "0.375",
         "0.3333333333333333",
         "0.5133418122566507"
        ],
        [
         "28",
         "0.2963056044232219",
         "0.0",
         "0.0",
         "0.01537917417160685"
        ],
        [
         "29",
         "0.2837396330736366",
         "0.0",
         "0.0",
         "0.015411575213749286"
        ],
        [
         "30",
         "0.49736114601658704",
         "0.0",
         "0.0",
         "0.05410739813385612"
        ],
        [
         "31",
         "0.5978889168132697",
         "0.125",
         "0.0",
         "0.2859895551532101"
        ],
        [
         "32",
         "0.22090977632571",
         "0.0",
         "0.0",
         "0.015126992566498259"
        ],
        [
         "33",
         "0.8240764011058055",
         "0.0",
         "0.0",
         "0.020494635090094415"
        ],
        [
         "34",
         "0.34656948982156316",
         "0.125",
         "0.0",
         "0.16038672010106003"
        ],
        [
         "35",
         "0.5224930887157577",
         "0.125",
         "0.0",
         "0.10149724044618187"
        ],
        [
         "36",
         "0.22090977632571",
         "0.0",
         "0.0",
         "0.014110458666029575"
        ],
        [
         "37",
         "0.2586076903744659",
         "0.0",
         "0.0",
         "0.015712553569072387"
        ],
        [
         "38",
         "0.22090977632571",
         "0.25",
         "0.0",
         "0.03513366015444757"
        ],
        [
         "39",
         "0.17064589092736868",
         "0.125",
         "0.0",
         "0.021942337075458514"
        ],
        [
         "40",
         "0.49736114601658704",
         "0.125",
         "0.0",
         "0.018493968331299484"
        ],
        [
         "41",
         "0.33400351847197784",
         "0.125",
         "0.0",
         "0.04098927018018883"
        ],
        [
         "42",
         "0.032420206081930136",
         "0.125",
         "0.3333333333333333",
         "0.08115719346076702"
        ],
        [
         "43",
         "0.2334757476752953",
         "0.0",
         "0.0",
         "0.01537917417160685"
        ],
        [
         "44",
         "0.37170143252073384",
         "0.0",
         "0.0",
         "0.015712553569072387"
        ],
        [
         "45",
         "0.24604171902488062",
         "0.125",
         "0.0",
         "0.030253985132996517"
        ],
        [
         "46",
         "0.33400351847197784",
         "0.0",
         "0.0",
         "0.015126992566498259"
        ],
        [
         "47",
         "0.19577783362653933",
         "0.25",
         "0.0",
         "0.04231498029001666"
        ],
        [
         "48",
         "0.22090977632571",
         "0.125",
         "0.0",
         "0.034743286152731485"
        ],
        [
         "49",
         "0.08268409148027142",
         "0.5",
         "0.16666666666666666",
         "0.07746484096553544"
        ]
       ],
       "shape": {
        "columns": 4,
        "rows": 887
       }
      },
      "text/html": [
       "<div>\n",
       "<style scoped>\n",
       "    .dataframe tbody tr th:only-of-type {\n",
       "        vertical-align: middle;\n",
       "    }\n",
       "\n",
       "    .dataframe tbody tr th {\n",
       "        vertical-align: top;\n",
       "    }\n",
       "\n",
       "    .dataframe thead th {\n",
       "        text-align: right;\n",
       "    }\n",
       "</style>\n",
       "<table border=\"1\" class=\"dataframe\">\n",
       "  <thead>\n",
       "    <tr style=\"text-align: right;\">\n",
       "      <th></th>\n",
       "      <th>0</th>\n",
       "      <th>1</th>\n",
       "      <th>2</th>\n",
       "      <th>3</th>\n",
       "    </tr>\n",
       "  </thead>\n",
       "  <tbody>\n",
       "    <tr>\n",
       "      <th>0</th>\n",
       "      <td>0.271174</td>\n",
       "      <td>0.125</td>\n",
       "      <td>0.000000</td>\n",
       "      <td>0.014151</td>\n",
       "    </tr>\n",
       "    <tr>\n",
       "      <th>1</th>\n",
       "      <td>0.472229</td>\n",
       "      <td>0.125</td>\n",
       "      <td>0.000000</td>\n",
       "      <td>0.139136</td>\n",
       "    </tr>\n",
       "    <tr>\n",
       "      <th>2</th>\n",
       "      <td>0.321438</td>\n",
       "      <td>0.000</td>\n",
       "      <td>0.000000</td>\n",
       "      <td>0.015469</td>\n",
       "    </tr>\n",
       "    <tr>\n",
       "      <th>3</th>\n",
       "      <td>0.434531</td>\n",
       "      <td>0.125</td>\n",
       "      <td>0.000000</td>\n",
       "      <td>0.103644</td>\n",
       "    </tr>\n",
       "    <tr>\n",
       "      <th>4</th>\n",
       "      <td>0.434531</td>\n",
       "      <td>0.000</td>\n",
       "      <td>0.000000</td>\n",
       "      <td>0.015713</td>\n",
       "    </tr>\n",
       "    <tr>\n",
       "      <th>...</th>\n",
       "      <td>...</td>\n",
       "      <td>...</td>\n",
       "      <td>...</td>\n",
       "      <td>...</td>\n",
       "    </tr>\n",
       "    <tr>\n",
       "      <th>882</th>\n",
       "      <td>0.334004</td>\n",
       "      <td>0.000</td>\n",
       "      <td>0.000000</td>\n",
       "      <td>0.025374</td>\n",
       "    </tr>\n",
       "    <tr>\n",
       "      <th>883</th>\n",
       "      <td>0.233476</td>\n",
       "      <td>0.000</td>\n",
       "      <td>0.000000</td>\n",
       "      <td>0.058556</td>\n",
       "    </tr>\n",
       "    <tr>\n",
       "      <th>884</th>\n",
       "      <td>0.082684</td>\n",
       "      <td>0.125</td>\n",
       "      <td>0.333333</td>\n",
       "      <td>0.045771</td>\n",
       "    </tr>\n",
       "    <tr>\n",
       "      <th>885</th>\n",
       "      <td>0.321438</td>\n",
       "      <td>0.000</td>\n",
       "      <td>0.000000</td>\n",
       "      <td>0.058556</td>\n",
       "    </tr>\n",
       "    <tr>\n",
       "      <th>886</th>\n",
       "      <td>0.396833</td>\n",
       "      <td>0.000</td>\n",
       "      <td>0.000000</td>\n",
       "      <td>0.015127</td>\n",
       "    </tr>\n",
       "  </tbody>\n",
       "</table>\n",
       "<p>887 rows × 4 columns</p>\n",
       "</div>"
      ],
      "text/plain": [
       "            0      1         2         3\n",
       "0    0.271174  0.125  0.000000  0.014151\n",
       "1    0.472229  0.125  0.000000  0.139136\n",
       "2    0.321438  0.000  0.000000  0.015469\n",
       "3    0.434531  0.125  0.000000  0.103644\n",
       "4    0.434531  0.000  0.000000  0.015713\n",
       "..        ...    ...       ...       ...\n",
       "882  0.334004  0.000  0.000000  0.025374\n",
       "883  0.233476  0.000  0.000000  0.058556\n",
       "884  0.082684  0.125  0.333333  0.045771\n",
       "885  0.321438  0.000  0.000000  0.058556\n",
       "886  0.396833  0.000  0.000000  0.015127\n",
       "\n",
       "[887 rows x 4 columns]"
      ]
     },
     "execution_count": 177,
     "metadata": {},
     "output_type": "execute_result"
    }
   ],
   "source": [
    "from sklearn.preprocessing import MinMaxScaler\n",
    "\n",
    "scaler = MinMaxScaler()\n",
    "\n",
    "X_train_norm = scaler.fit_transform(titanic_df[numeric_attributes])\n",
    "\n",
    "pd.DataFrame(X_train_norm)\n"
   ]
  },
  {
   "cell_type": "markdown",
   "id": "dc2628a6",
   "metadata": {},
   "source": [
    "### 6."
   ]
  },
  {
   "cell_type": "code",
   "execution_count": 178,
   "id": "d37f077e",
   "metadata": {},
   "outputs": [
    {
     "name": "stderr",
     "output_type": "stream",
     "text": [
      "/tmp/nix-shell.HA8lCC/ipykernel_56664/1088158885.py:4: FutureWarning: Downcasting behavior in `replace` is deprecated and will be removed in a future version. To retain the old behavior, explicitly call `result.infer_objects(copy=False)`. To opt-in to the future behavior, set `pd.set_option('future.no_silent_downcasting', True)`\n",
      "  titanic_df_clean['Sex'] = titanic_df_clean['Sex'].replace(scale_mapper)\n"
     ]
    },
    {
     "data": {
      "application/vnd.microsoft.datawrangler.viewer.v0+json": {
       "columns": [
        {
         "name": "index",
         "rawType": "int64",
         "type": "integer"
        },
        {
         "name": "Survived",
         "rawType": "int64",
         "type": "integer"
        },
        {
         "name": "Pclass",
         "rawType": "int64",
         "type": "integer"
        },
        {
         "name": "Name",
         "rawType": "object",
         "type": "string"
        },
        {
         "name": "Sex",
         "rawType": "int64",
         "type": "integer"
        },
        {
         "name": "Age",
         "rawType": "float64",
         "type": "float"
        },
        {
         "name": "Siblings/Spouses Aboard",
         "rawType": "int64",
         "type": "integer"
        },
        {
         "name": "Parents/Children Aboard",
         "rawType": "int64",
         "type": "integer"
        },
        {
         "name": "Fare",
         "rawType": "float64",
         "type": "float"
        }
       ],
       "conversionMethod": "pd.DataFrame",
       "ref": "5a76d230-7372-4abe-963b-159ac4862edc",
       "rows": [
        [
         "0",
         "0",
         "3",
         "Mr. Owen Harris Braund",
         "0",
         "22.0",
         "1",
         "0",
         "7.25"
        ],
        [
         "1",
         "1",
         "1",
         "Mrs. John Bradley (Florence Briggs Thayer) Cumings",
         "1",
         "38.0",
         "1",
         "0",
         "71.2833"
        ],
        [
         "2",
         "1",
         "3",
         "Miss. Laina Heikkinen",
         "1",
         "26.0",
         "0",
         "0",
         "7.925"
        ],
        [
         "3",
         "1",
         "1",
         "Mrs. Jacques Heath (Lily May Peel) Futrelle",
         "1",
         "35.0",
         "1",
         "0",
         "53.1"
        ],
        [
         "4",
         "0",
         "3",
         "Mr. William Henry Allen",
         "0",
         "35.0",
         "0",
         "0",
         "8.05"
        ]
       ],
       "shape": {
        "columns": 8,
        "rows": 5
       }
      },
      "text/html": [
       "<div>\n",
       "<style scoped>\n",
       "    .dataframe tbody tr th:only-of-type {\n",
       "        vertical-align: middle;\n",
       "    }\n",
       "\n",
       "    .dataframe tbody tr th {\n",
       "        vertical-align: top;\n",
       "    }\n",
       "\n",
       "    .dataframe thead th {\n",
       "        text-align: right;\n",
       "    }\n",
       "</style>\n",
       "<table border=\"1\" class=\"dataframe\">\n",
       "  <thead>\n",
       "    <tr style=\"text-align: right;\">\n",
       "      <th></th>\n",
       "      <th>Survived</th>\n",
       "      <th>Pclass</th>\n",
       "      <th>Name</th>\n",
       "      <th>Sex</th>\n",
       "      <th>Age</th>\n",
       "      <th>Siblings/Spouses Aboard</th>\n",
       "      <th>Parents/Children Aboard</th>\n",
       "      <th>Fare</th>\n",
       "    </tr>\n",
       "  </thead>\n",
       "  <tbody>\n",
       "    <tr>\n",
       "      <th>0</th>\n",
       "      <td>0</td>\n",
       "      <td>3</td>\n",
       "      <td>Mr. Owen Harris Braund</td>\n",
       "      <td>0</td>\n",
       "      <td>22.0</td>\n",
       "      <td>1</td>\n",
       "      <td>0</td>\n",
       "      <td>7.2500</td>\n",
       "    </tr>\n",
       "    <tr>\n",
       "      <th>1</th>\n",
       "      <td>1</td>\n",
       "      <td>1</td>\n",
       "      <td>Mrs. John Bradley (Florence Briggs Thayer) Cum...</td>\n",
       "      <td>1</td>\n",
       "      <td>38.0</td>\n",
       "      <td>1</td>\n",
       "      <td>0</td>\n",
       "      <td>71.2833</td>\n",
       "    </tr>\n",
       "    <tr>\n",
       "      <th>2</th>\n",
       "      <td>1</td>\n",
       "      <td>3</td>\n",
       "      <td>Miss. Laina Heikkinen</td>\n",
       "      <td>1</td>\n",
       "      <td>26.0</td>\n",
       "      <td>0</td>\n",
       "      <td>0</td>\n",
       "      <td>7.9250</td>\n",
       "    </tr>\n",
       "    <tr>\n",
       "      <th>3</th>\n",
       "      <td>1</td>\n",
       "      <td>1</td>\n",
       "      <td>Mrs. Jacques Heath (Lily May Peel) Futrelle</td>\n",
       "      <td>1</td>\n",
       "      <td>35.0</td>\n",
       "      <td>1</td>\n",
       "      <td>0</td>\n",
       "      <td>53.1000</td>\n",
       "    </tr>\n",
       "    <tr>\n",
       "      <th>4</th>\n",
       "      <td>0</td>\n",
       "      <td>3</td>\n",
       "      <td>Mr. William Henry Allen</td>\n",
       "      <td>0</td>\n",
       "      <td>35.0</td>\n",
       "      <td>0</td>\n",
       "      <td>0</td>\n",
       "      <td>8.0500</td>\n",
       "    </tr>\n",
       "  </tbody>\n",
       "</table>\n",
       "</div>"
      ],
      "text/plain": [
       "   Survived  Pclass                                               Name  Sex  \\\n",
       "0         0       3                             Mr. Owen Harris Braund    0   \n",
       "1         1       1  Mrs. John Bradley (Florence Briggs Thayer) Cum...    1   \n",
       "2         1       3                              Miss. Laina Heikkinen    1   \n",
       "3         1       1        Mrs. Jacques Heath (Lily May Peel) Futrelle    1   \n",
       "4         0       3                            Mr. William Henry Allen    0   \n",
       "\n",
       "    Age  Siblings/Spouses Aboard  Parents/Children Aboard     Fare  \n",
       "0  22.0                        1                        0   7.2500  \n",
       "1  38.0                        1                        0  71.2833  \n",
       "2  26.0                        0                        0   7.9250  \n",
       "3  35.0                        1                        0  53.1000  \n",
       "4  35.0                        0                        0   8.0500  "
      ]
     },
     "execution_count": 178,
     "metadata": {},
     "output_type": "execute_result"
    }
   ],
   "source": [
    "titanic_df_clean = titanic_df.copy()\n",
    "\n",
    "scale_mapper = {'male': 0, 'female': 1}\n",
    "titanic_df_clean['Sex'] = titanic_df_clean['Sex'].replace(scale_mapper)\n",
    "\n",
    "titanic_df_clean.head()"
   ]
  },
  {
   "cell_type": "markdown",
   "id": "6d362016",
   "metadata": {},
   "source": [
    "### 7."
   ]
  },
  {
   "cell_type": "code",
   "execution_count": 179,
   "id": "26199fd6",
   "metadata": {
    "vscode": {
     "languageId": "ruby"
    }
   },
   "outputs": [
    {
     "name": "stdout",
     "output_type": "stream",
     "text": [
      "Survived: 342\n",
      "Not Survived: 545\n",
      "Number of people in first class that survived: 136\n",
      "Number of people in first class that died: 80\n",
      "Number of people in not first class that survived: 206\n",
      "Number of people in not first class that died: 465\n",
      "Percentage of people that died in first class: 37.04%\n",
      "Percentage of people that died not in first class: 69.30%\n"
     ]
    }
   ],
   "source": [
    "survived_df = titanic_df_clean[titanic_df_clean['Survived'] == 1]\n",
    "not_survived_df = titanic_df_clean[titanic_df_clean['Survived'] == 0]\n",
    "\n",
    "print(f\"Survived: {len(survived_df)}\")\n",
    "print(f\"Not Survived: {len(not_survived_df)}\")\n",
    "\n",
    "print(f\"Number of people in first class that survived: {len(survived_df[survived_df['Pclass'] == 1])}\")\n",
    "print(f\"Number of people in first class that died: {len(not_survived_df[not_survived_df['Pclass'] == 1])}\")\n",
    "print(f\"Number of people in not first class that survived: {len(survived_df[survived_df['Pclass'] != 1])}\")\n",
    "print(f\"Number of people in not first class that died: {len(not_survived_df[not_survived_df['Pclass'] != 1])}\")\n",
    "percentage_died_first_class = len(not_survived_df[not_survived_df['Pclass'] == 1]) / len(titanic_df_clean[titanic_df_clean['Pclass'] == 1]) * 100\n",
    "print(f\"Percentage of people that died in first class: {percentage_died_first_class:.2f}%\")\n",
    "percentage_died_not_first_class = len(not_survived_df[not_survived_df['Pclass'] != 1]) / len(titanic_df_clean[titanic_df_clean['Pclass'] != 1]) * 100\n",
    "print(f\"Percentage of people that died not in first class: {percentage_died_not_first_class:.2f}%\")\n",
    "\n",
    "\n",
    "# clean_df = titanic_df_clean[['Survived', 'Pclass']]\n",
    "# print(clean_df.value_counts())"
   ]
  },
  {
   "cell_type": "markdown",
   "id": "a45479f2",
   "metadata": {},
   "source": [
    "### 8."
   ]
  },
  {
   "cell_type": "code",
   "execution_count": 180,
   "id": "7f29d8a9",
   "metadata": {},
   "outputs": [
    {
     "data": {
      "image/png": "[encoded data removed]",
      "text/plain": [
       "<Figure size 1000x600 with 1 Axes>"
      ]
     },
     "metadata": {},
     "output_type": "display_data"
    },
    {
     "data": {
      "image/png": "[encoded data removed]",
      "text/plain": [
       "<Figure size 1000x600 with 1 Axes>"
      ]
     },
     "metadata": {},
     "output_type": "display_data"
    },
    {
     "data": {
      "image/png": "[encoded data removed]",
      "text/plain": [
       "<Figure size 1000x600 with 1 Axes>"
      ]
     },
     "metadata": {},
     "output_type": "display_data"
    },
    {
     "data": {
      "image/png": "[encoded data removed]",
      "text/plain": [
       "<Figure size 1000x600 with 1 Axes>"
      ]
     },
     "metadata": {},
     "output_type": "display_data"
    },
    {
     "data": {
      "image/png": "[encoded data removed]",
      "text/plain": [
       "<Figure size 1000x600 with 1 Axes>"
      ]
     },
     "metadata": {},
     "output_type": "display_data"
    },
    {
     "data": {
      "image/png": "[encoded data removed]",
      "text/plain": [
       "<Figure size 1000x600 with 1 Axes>"
      ]
     },
     "metadata": {},
     "output_type": "display_data"
    }
   ],
   "source": [
    "import matplotlib.pyplot as plt\n",
    "\n",
    "titanic_numeric_clean_df = titanic_df_clean.select_dtypes(include='number')\n",
    "plot_columns = titanic_numeric_clean_df.columns\n",
    "plot_columns = plot_columns.drop('Survived')\n",
    "\n",
    "for col in plot_columns:\n",
    "    plt.figure(figsize=(10, 6))\n",
    "    plt.scatter(titanic_numeric_clean_df[col], titanic_numeric_clean_df['Survived'], alpha=0.5)\n",
    "    plt.title(f'{col} vs Survived')\n",
    "    plt.xlabel(col)\n",
    "    plt.ylabel('Survived')\n",
    "    plt.show()\n"
   ]
  }
 ],
 "metadata": {
  "kernelspec": {
   "display_name": "Python 3 (ipykernel)",
   "language": "python",
   "name": "python3"
  },
  "language_info": {
   "codemirror_mode": {
    "name": "ipython",
    "version": 3
   },
   "file_extension": ".py",
   "mimetype": "text/x-python",
   "name": "python",
   "nbconvert_exporter": "python",
   "pygments_lexer": "ipython3",
   "version": "3.12.9"
  }
 },
 "nbformat": 4,
 "nbformat_minor": 5
}
